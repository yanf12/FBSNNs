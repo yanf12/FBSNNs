{
 "cells": [
  {
   "cell_type": "code",
   "execution_count": 65,
   "metadata": {
    "collapsed": true,
    "pycharm": {
     "name": "#%%\n"
    }
   },
   "outputs": [],
   "source": [
    "import numpy as np\n",
    "import matplotlib.pyplot as plt\n",
    "def gbm(T, dt, S0, K, r, sigma):\n",
    "    N = int(T/dt)\n",
    "    t = np.linspace(0,T,N)\n",
    "    z = np.random.standard_normal(size=N)\n",
    "    z = np.cumsum(z)*np.sqrt(dt)\n",
    "    x = (r-0.5*sigma**2)*t+sigma*z\n",
    "    S = S0*np.exp(x)\n",
    "    ST = S[-1]\n",
    "    return ST"
   ]
  },
  {
   "cell_type": "code",
   "execution_count": 66,
   "outputs": [],
   "source": [
    "def main(T, dt, S0, K, r, sigma):\n",
    "    VTlist = []\n",
    "    for i in range(100000):\n",
    "        ST_i = gbm(T, dt, S0, K, r, sigma)\n",
    "        VT_i = max(ST_i - K, 0)\n",
    "        VTlist.append(VT_i)\n",
    "    V0 = np.exp(-r*T)*np.mean(VTlist)\n",
    "    return V0"
   ],
   "metadata": {
    "collapsed": false,
    "pycharm": {
     "name": "#%%\n"
    }
   }
  },
  {
   "cell_type": "code",
   "execution_count": 67,
   "outputs": [
    {
     "data": {
      "text/plain": "0.10376468976979435"
     },
     "execution_count": 67,
     "metadata": {},
     "output_type": "execute_result"
    }
   ],
   "source": [
    "main(1, 0.01, 1, 1, 0.05, 0.2)"
   ],
   "metadata": {
    "collapsed": false,
    "pycharm": {
     "name": "#%%\n"
    }
   }
  },
  {
   "cell_type": "code",
   "execution_count": 31,
   "outputs": [],
   "source": [
    "import numpy as np\n",
    "from scipy.stats import norm\n",
    "def vanilla_option(S, K, T, r, sigma, option='call'):\n",
    "    \"\"\"\n",
    "    S: spot price\n",
    "    K: strike price\n",
    "    T: time to maturity\n",
    "    r: risk-free interest rate\n",
    "    sigma: standard deviation of price of underlying asset\n",
    "    \"\"\"\n",
    "    d1 = (np.log(S/K) + (r + 0.5*sigma**2)*T)/(sigma*np.sqrt(T))\n",
    "    d2 = (np.log(S/K) + (r - 0.5*sigma**2)*T)/(sigma * np.sqrt(T))\n",
    "\n",
    "    if option == 'call':\n",
    "        p = (S*norm.cdf(d1, 0.0, 1.0) - K*np.exp(-r*T)*norm.cdf(d2, 0.0, 1.0))\n",
    "    elif option == 'put':\n",
    "        p = (K*np.exp(-r*T)*norm.cdf(-d2, 0.0, 1.0) - S*norm.cdf(-d1, 0.0, 1.0))\n",
    "    else:\n",
    "        return None\n",
    "    return p"
   ],
   "metadata": {
    "collapsed": false,
    "pycharm": {
     "name": "#%%\n"
    }
   }
  },
  {
   "cell_type": "code",
   "execution_count": 22,
   "outputs": [
    {
     "data": {
      "text/plain": "0.10450583572185568"
     },
     "execution_count": 22,
     "metadata": {},
     "output_type": "execute_result"
    }
   ],
   "source": [
    "vanilla_option(1, 1, 1, 0.05, 0.2, option='call')"
   ],
   "metadata": {
    "collapsed": false,
    "pycharm": {
     "name": "#%%\n"
    }
   }
  },
  {
   "cell_type": "code",
   "execution_count": 73,
   "outputs": [],
   "source": [
    "import numpy as np\n",
    "import matplotlib.pyplot as plt\n",
    "from scipy.stats import norm\n",
    "\n",
    "class option():\n",
    "    def __init__(self, T, dt, S0, K, r, sigma):\n",
    "        self.T = T\n",
    "        self.dt = dt\n",
    "        self.S0 = S0\n",
    "        self.K = K\n",
    "        self.r = r\n",
    "        self.sigma = sigma\n",
    "    def gbm(self):\n",
    "        N = int(self.T/self.dt)\n",
    "        t = np.linspace(0,self.T,N)\n",
    "        z = np.random.standard_normal(size=N)\n",
    "        z = np.cumsum(z)*np.sqrt(self.dt)\n",
    "        x = (self.r-0.5*self.sigma**2)*t+self.sigma*z\n",
    "        S = self.S0*np.exp(x)\n",
    "        ST = S[-1]\n",
    "        return ST\n",
    "    def main(self):\n",
    "        VTlist = []\n",
    "        for i in range(100000):\n",
    "            ST_i = self.gbm()\n",
    "            VT_i = max(ST_i - self.K, 0)\n",
    "            VTlist.append(VT_i)\n",
    "        V0 = np.exp(-self.r*self.T)*np.mean(VTlist)\n",
    "        return V0\n",
    "    def vanilla_option(self):\n",
    "        d1 = (np.log(self.S0/self.K) + (self.r + 0.5*self.sigma**2)*self.T)/(self.sigma*np.sqrt(self.T))\n",
    "        d2 = (np.log(self.S0/self.K) + (self.r - 0.5*self.sigma**2)*self.T)/(self.sigma * np.sqrt(self.T))\n",
    "        p = (self.S0*norm.cdf(d1, 0.0, 1.0) - self.K*np.exp(-self.r*self.T)*norm.cdf(d2, 0.0, 1.0))\n",
    "        return p"
   ],
   "metadata": {
    "collapsed": false,
    "pycharm": {
     "name": "#%%\n"
    }
   }
  },
  {
   "cell_type": "code",
   "execution_count": 74,
   "outputs": [],
   "source": [
    "option1 = option(1, 0.01, 1, 1, 0.05, 0.2)"
   ],
   "metadata": {
    "collapsed": false,
    "pycharm": {
     "name": "#%%\n"
    }
   }
  },
  {
   "cell_type": "code",
   "execution_count": 75,
   "outputs": [
    {
     "data": {
      "text/plain": "0.1052083516219936"
     },
     "execution_count": 75,
     "metadata": {},
     "output_type": "execute_result"
    }
   ],
   "source": [
    "option1.main()"
   ],
   "metadata": {
    "collapsed": false,
    "pycharm": {
     "name": "#%%\n"
    }
   }
  },
  {
   "cell_type": "code",
   "execution_count": 76,
   "outputs": [
    {
     "data": {
      "text/plain": "0.10450583572185568"
     },
     "execution_count": 76,
     "metadata": {},
     "output_type": "execute_result"
    }
   ],
   "source": [
    "option1.vanilla_option()"
   ],
   "metadata": {
    "collapsed": false,
    "pycharm": {
     "name": "#%%\n"
    }
   }
  },
  {
   "cell_type": "code",
   "execution_count": null,
   "outputs": [],
   "source": [],
   "metadata": {
    "collapsed": false,
    "pycharm": {
     "name": "#%%\n"
    }
   }
  }
 ],
 "metadata": {
  "kernelspec": {
   "display_name": "Python 3",
   "language": "python",
   "name": "python3"
  },
  "language_info": {
   "codemirror_mode": {
    "name": "ipython",
    "version": 2
   },
   "file_extension": ".py",
   "mimetype": "text/x-python",
   "name": "python",
   "nbconvert_exporter": "python",
   "pygments_lexer": "ipython2",
   "version": "2.7.6"
  }
 },
 "nbformat": 4,
 "nbformat_minor": 0
}
