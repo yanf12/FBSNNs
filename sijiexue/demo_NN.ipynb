{
 "cells": [
  {
   "cell_type": "code",
   "execution_count": 1,
   "outputs": [],
   "source": [
    "import torch\n",
    "import torch.nn as nn\n",
    "import torch.optim as optim"
   ],
   "metadata": {
    "collapsed": false,
    "pycharm": {
     "name": "#%%\n"
    }
   }
  },
  {
   "cell_type": "code",
   "execution_count": 2,
   "outputs": [],
   "source": [
    "x= torch.tensor([2,3]).float()\n",
    "x.requires_grad = True"
   ],
   "metadata": {
    "collapsed": false,
    "pycharm": {
     "name": "#%%\n"
    }
   }
  },
  {
   "cell_type": "code",
   "execution_count": 3,
   "outputs": [
    {
     "data": {
      "text/plain": "tensor([2., 3.], requires_grad=True)"
     },
     "execution_count": 3,
     "metadata": {},
     "output_type": "execute_result"
    }
   ],
   "source": [
    "x"
   ],
   "metadata": {
    "collapsed": false,
    "pycharm": {
     "name": "#%%\n"
    }
   }
  },
  {
   "cell_type": "code",
   "execution_count": 4,
   "outputs": [],
   "source": [
    "y = x**2"
   ],
   "metadata": {
    "collapsed": false,
    "pycharm": {
     "name": "#%%\n"
    }
   }
  },
  {
   "cell_type": "code",
   "execution_count": 5,
   "outputs": [
    {
     "data": {
      "text/plain": "tensor([4., 9.], grad_fn=<PowBackward0>)"
     },
     "execution_count": 5,
     "metadata": {},
     "output_type": "execute_result"
    }
   ],
   "source": [
    "y"
   ],
   "metadata": {
    "collapsed": false,
    "pycharm": {
     "name": "#%%\n"
    }
   }
  },
  {
   "cell_type": "code",
   "execution_count": 6,
   "outputs": [
    {
     "data": {
      "text/plain": "(tensor([4., 6.]),)"
     },
     "execution_count": 6,
     "metadata": {},
     "output_type": "execute_result"
    }
   ],
   "source": [
    "torch.autograd.grad(y.sum(), x)"
   ],
   "metadata": {
    "collapsed": false,
    "pycharm": {
     "name": "#%%\n"
    }
   }
  },
  {
   "cell_type": "code",
   "execution_count": 7,
   "outputs": [],
   "source": [
    "class neural_net(nn.Module):\n",
    "    def __init__(self):\n",
    "        super(neural_net, self).__init__()\n",
    "\n",
    "        self.fc_1 = nn.Linear(1, 256)\n",
    "        self.fc_2 = nn.Linear(256, 256)\n",
    "        self.fc_3 = nn.Linear(256, 256)\n",
    "        self.fc_4 = nn.Linear(256, 256)\n",
    "        self.out = nn.Linear(256,1)\n",
    "        self.relu = nn.ReLU()\n",
    "        self.prelu = nn.PReLU()\n",
    "        self.tanh = nn.Tanh()\n",
    "\n",
    "        with torch.no_grad():\n",
    "            torch.nn.init.xavier_uniform(self.fc_1.weight)\n",
    "            torch.nn.init.xavier_uniform(self.fc_2.weight)\n",
    "            torch.nn.init.xavier_uniform(self.fc_3.weight)\n",
    "            torch.nn.init.xavier_uniform(self.fc_4.weight)\n",
    "\n",
    "    def forward(self, state, train=False):\n",
    "        state = torch.sin(self.fc_1(state))\n",
    "        state = torch.sin(self.fc_2(state))\n",
    "        # state = torch.sin(self.fc_3(state))\n",
    "        # state = torch.sin(self.fc_4(state))\n",
    "        fn_u = self.out(state)\n",
    "        return fn_u"
   ],
   "metadata": {
    "collapsed": false,
    "pycharm": {
     "name": "#%%\n"
    }
   }
  },
  {
   "cell_type": "code",
   "execution_count": 7,
   "outputs": [],
   "source": [],
   "metadata": {
    "collapsed": false,
    "pycharm": {
     "name": "#%%\n"
    }
   }
  },
  {
   "cell_type": "code",
   "execution_count": 7,
   "outputs": [],
   "source": [],
   "metadata": {
    "collapsed": false,
    "pycharm": {
     "name": "#%%\n"
    }
   }
  },
  {
   "cell_type": "code",
   "execution_count": 8,
   "outputs": [],
   "source": [
    "import matplotlib.pyplot as plt"
   ],
   "metadata": {
    "collapsed": false,
    "pycharm": {
     "name": "#%%\n"
    }
   }
  },
  {
   "cell_type": "code",
   "execution_count": 9,
   "outputs": [
    {
     "name": "stderr",
     "output_type": "stream",
     "text": [
      "C:\\Users\\haoyang\\AppData\\Local\\Temp\\ipykernel_21856\\751256153.py:15: UserWarning: nn.init.xavier_uniform is now deprecated in favor of nn.init.xavier_uniform_.\n",
      "  torch.nn.init.xavier_uniform(self.fc_1.weight)\n",
      "C:\\Users\\haoyang\\AppData\\Local\\Temp\\ipykernel_21856\\751256153.py:16: UserWarning: nn.init.xavier_uniform is now deprecated in favor of nn.init.xavier_uniform_.\n",
      "  torch.nn.init.xavier_uniform(self.fc_2.weight)\n",
      "C:\\Users\\haoyang\\AppData\\Local\\Temp\\ipykernel_21856\\751256153.py:17: UserWarning: nn.init.xavier_uniform is now deprecated in favor of nn.init.xavier_uniform_.\n",
      "  torch.nn.init.xavier_uniform(self.fc_3.weight)\n",
      "C:\\Users\\haoyang\\AppData\\Local\\Temp\\ipykernel_21856\\751256153.py:18: UserWarning: nn.init.xavier_uniform is now deprecated in favor of nn.init.xavier_uniform_.\n",
      "  torch.nn.init.xavier_uniform(self.fc_4.weight)\n"
     ]
    }
   ],
   "source": [
    "example_nn = neural_net()\n",
    "optimizer = optim.Adam(example_nn.parameters(), lr=0.001)\n",
    "x = torch.linspace(0, 10, 100)\n"
   ],
   "metadata": {
    "collapsed": false,
    "pycharm": {
     "name": "#%%\n"
    }
   }
  },
  {
   "cell_type": "code",
   "execution_count": 9,
   "outputs": [],
   "source": [
    "\n"
   ],
   "metadata": {
    "collapsed": false,
    "pycharm": {
     "name": "#%%\n"
    }
   }
  },
  {
   "cell_type": "code",
   "execution_count": 9,
   "outputs": [],
   "source": [],
   "metadata": {
    "collapsed": false,
    "pycharm": {
     "name": "#%%\n"
    }
   }
  },
  {
   "cell_type": "code",
   "execution_count": 10,
   "outputs": [
    {
     "data": {
      "text/plain": "[<matplotlib.lines.Line2D at 0x2c040844fa0>]"
     },
     "execution_count": 10,
     "metadata": {},
     "output_type": "execute_result"
    },
    {
     "data": {
      "text/plain": "<Figure size 432x288 with 1 Axes>",
      "image/png": "[encoded data removed]"
     },
     "metadata": {
      "needs_background": "light"
     },
     "output_type": "display_data"
    }
   ],
   "source": [
    "\n",
    "y_pred = []\n",
    "for x_ in x:\n",
    "    y_pred.append(example_nn.forward(torch.tensor([x_]).float()).detach().numpy()[0])\n",
    "y_target = x**2\n",
    "plt.plot(x,y_target)\n"
   ],
   "metadata": {
    "collapsed": false,
    "pycharm": {
     "name": "#%%\n"
    }
   }
  },
  {
   "cell_type": "code",
   "execution_count": 11,
   "outputs": [
    {
     "data": {
      "text/plain": "<Figure size 432x288 with 1 Axes>",
      "image/png": "[encoded data removed]"
     },
     "metadata": {
      "needs_background": "light"
     },
     "output_type": "display_data"
    }
   ],
   "source": [
    "epochs = 1000\n",
    "from IPython.display import display, clear_output\n",
    "loss_list = []\n",
    "for i in range(epochs):\n",
    "    y_pred = example_nn.forward(torch.tensor(x).float().unsqueeze(-1))\n",
    "    y_pred = y_pred.squeeze(1)\n",
    "\n",
    "\n",
    "    y_target = torch.tensor(y_target, requires_grad=True).float()\n",
    "    # print(y_target)\n",
    "    optimizer.zero_grad()\n",
    "    loss = torch.mean((y_target - y_pred)**2)\n",
    "    loss.backward()\n",
    "    optimizer.step()\n",
    "    loss_list.append(loss.detach().numpy())\n",
    "\n",
    "    clear_output(wait=True)\n",
    "    plt.plot(x, y_pred.detach().numpy(), label='pred')\n",
    "    plt.show()\n",
    "\n",
    "    # plt.plot(loss_list)\n",
    "    # plt.show()\n"
   ],
   "metadata": {
    "collapsed": false,
    "pycharm": {
     "name": "#%%\n"
    }
   }
  },
  {
   "cell_type": "code",
   "execution_count": 12,
   "outputs": [
    {
     "data": {
      "text/plain": "tensor([0.0000e+00, 1.0203e-02, 4.0812e-02, 9.1827e-02, 1.6325e-01, 2.5508e-01,\n        3.6731e-01, 4.9995e-01, 6.5299e-01, 8.2645e-01, 1.0203e+00, 1.2346e+00,\n        1.4692e+00, 1.7243e+00, 1.9998e+00, 2.2957e+00, 2.6120e+00, 2.9487e+00,\n        3.3058e+00, 3.6833e+00, 4.0812e+00, 4.4995e+00, 4.9383e+00, 5.3974e+00,\n        5.8770e+00, 6.3769e+00, 6.8973e+00, 7.4380e+00, 7.9992e+00, 8.5808e+00,\n        9.1827e+00, 9.8051e+00, 1.0448e+01, 1.1111e+01, 1.1795e+01, 1.2499e+01,\n        1.3223e+01, 1.3968e+01, 1.4733e+01, 1.5519e+01, 1.6325e+01, 1.7151e+01,\n        1.7998e+01, 1.8865e+01, 1.9753e+01, 2.0661e+01, 2.1590e+01, 2.2539e+01,\n        2.3508e+01, 2.4498e+01, 2.5508e+01, 2.6538e+01, 2.7589e+01, 2.8660e+01,\n        2.9752e+01, 3.0864e+01, 3.1997e+01, 3.3150e+01, 3.4323e+01, 3.5517e+01,\n        3.6731e+01, 3.7966e+01, 3.9220e+01, 4.0496e+01, 4.1792e+01, 4.3108e+01,\n        4.4444e+01, 4.5801e+01, 4.7179e+01, 4.8577e+01, 4.9995e+01, 5.1434e+01,\n        5.2893e+01, 5.4372e+01, 5.5872e+01, 5.7392e+01, 5.8933e+01, 6.0494e+01,\n        6.2075e+01, 6.3677e+01, 6.5299e+01, 6.6942e+01, 6.8605e+01, 7.0289e+01,\n        7.1993e+01, 7.3717e+01, 7.5462e+01, 7.7227e+01, 7.9012e+01, 8.0818e+01,\n        8.2645e+01, 8.4491e+01, 8.6359e+01, 8.8246e+01, 9.0154e+01, 9.2082e+01,\n        9.4031e+01, 9.6000e+01, 9.7990e+01, 1.0000e+02], requires_grad=True)"
     },
     "execution_count": 12,
     "metadata": {},
     "output_type": "execute_result"
    }
   ],
   "source": [
    "y_target"
   ],
   "metadata": {
    "collapsed": false,
    "pycharm": {
     "name": "#%%\n"
    }
   }
  },
  {
   "cell_type": "code",
   "execution_count": 13,
   "outputs": [
    {
     "ename": "IndexError",
     "evalue": "Dimension out of range (expected to be in range of [-1, 0], but got 1)",
     "output_type": "error",
     "traceback": [
      "\u001B[1;31m---------------------------------------------------------------------------\u001B[0m",
      "\u001B[1;31mIndexError\u001B[0m                                Traceback (most recent call last)",
      "Input \u001B[1;32mIn [13]\u001B[0m, in \u001B[0;36m<cell line: 1>\u001B[1;34m()\u001B[0m\n\u001B[1;32m----> 1\u001B[0m y_pred \u001B[38;5;241m=\u001B[39m \u001B[43my_pred\u001B[49m\u001B[38;5;241;43m.\u001B[39;49m\u001B[43msqueeze\u001B[49m\u001B[43m(\u001B[49m\u001B[38;5;241;43m1\u001B[39;49m\u001B[43m)\u001B[49m\n",
      "\u001B[1;31mIndexError\u001B[0m: Dimension out of range (expected to be in range of [-1, 0], but got 1)"
     ]
    }
   ],
   "source": [
    "y_pred = y_pred.squeeze(1)"
   ],
   "metadata": {
    "collapsed": false,
    "pycharm": {
     "name": "#%%\n"
    }
   }
  },
  {
   "cell_type": "code",
   "execution_count": null,
   "outputs": [],
   "source": [
    "y_pred"
   ],
   "metadata": {
    "collapsed": false,
    "pycharm": {
     "name": "#%%\n"
    }
   }
  },
  {
   "cell_type": "code",
   "execution_count": null,
   "outputs": [],
   "source": [],
   "metadata": {
    "collapsed": false,
    "pycharm": {
     "name": "#%%\n"
    }
   }
  }
 ],
 "metadata": {
  "kernelspec": {
   "display_name": "Python 3",
   "language": "python",
   "name": "python3"
  },
  "language_info": {
   "codemirror_mode": {
    "name": "ipython",
    "version": 2
   },
   "file_extension": ".py",
   "mimetype": "text/x-python",
   "name": "python",
   "nbconvert_exporter": "python",
   "pygments_lexer": "ipython2",
   "version": "2.7.6"
  }
 },
 "nbformat": 4,
 "nbformat_minor": 0
}