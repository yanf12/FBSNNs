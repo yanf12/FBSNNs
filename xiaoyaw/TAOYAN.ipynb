{
 "cells": [
  {
   "cell_type": "code",
   "execution_count": 9,
   "outputs": [],
   "source": [
    "import numpy as np\n",
    "import time\n",
    "import torch\n",
    "import torch.nn as nn\n",
    "import torch.optim as optim\n",
    "import matplotlib.pyplot as plt\n",
    "from plotting import newfig, savefig\n",
    "from torch.optim.lr_scheduler import StepLR\n",
    "from scipy.special import comb\n",
    "from scipy.stats import norm\n",
    "from IPython.display import display, clear_output\n",
    "\n",
    "x = torch.tensor([2,3,6,3,12,87,100,76,45,11]).float()\n",
    "x.requires_grad =True\n",
    "y = x**2\n",
    "#y = torch.tensor([4,9,36,9,144,7569,10000,5776,2025,121])\n",
    "DyDx = torch.autograd.grad(torch.sum(y), x, retain_graph=True,create_graph=True)[0]\n",
    "D2yDx2 = torch.autograd.grad(torch.sum(DyDx), x, retain_graph=True,create_graph=True)[0]"
   ],
   "metadata": {
    "collapsed": false
   }
  },
  {
   "cell_type": "code",
   "execution_count": 10,
   "outputs": [
    {
     "data": {
      "text/plain": "tensor([2., 2., 2., 2., 2., 2., 2., 2., 2., 2.], grad_fn=<MulBackward0>)"
     },
     "execution_count": 10,
     "metadata": {},
     "output_type": "execute_result"
    }
   ],
   "source": [
    "D2yDx2"
   ],
   "metadata": {
    "collapsed": false
   }
  },
  {
   "cell_type": "code",
   "execution_count": null,
   "outputs": [],
   "source": [],
   "metadata": {
    "collapsed": false
   }
  }
 ],
 "metadata": {
  "kernelspec": {
   "display_name": "Python 3",
   "language": "python",
   "name": "python3"
  },
  "language_info": {
   "codemirror_mode": {
    "name": "ipython",
    "version": 2
   },
   "file_extension": ".py",
   "mimetype": "text/x-python",
   "name": "python",
   "nbconvert_exporter": "python",
   "pygments_lexer": "ipython2",
   "version": "2.7.6"
  }
 },
 "nbformat": 4,
 "nbformat_minor": 0
}
