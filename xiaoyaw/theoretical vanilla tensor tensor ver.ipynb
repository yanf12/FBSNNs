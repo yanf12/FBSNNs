{
 "cells": [
  {
   "cell_type": "code",
   "execution_count": 84,
   "outputs": [],
   "source": [
    "import numpy as np\n",
    "import time\n",
    "import torch\n",
    "import torch.nn as nn\n",
    "import torch.optim as optim\n",
    "import matplotlib.pyplot as plt\n",
    "from plotting import newfig, savefig\n",
    "from torch.optim.lr_scheduler import StepLR\n",
    "from scipy.special import comb\n",
    "from scipy.stats import norm\n",
    "from IPython.display import display, clear_output\n",
    "from torch.distributions.normal import Normal\n",
    "\n",
    "\n",
    "\n",
    "def theoretical_vanilla_eu_tensor_ver(S0=50, K=50, T=1, r=0.05, sigma=0.4, type_='call'):\n",
    "\n",
    "    if T == 0:\n",
    "        if type_ == \"call\":\n",
    "            a = torch.clamp(S0 - K, 0)\n",
    "\n",
    "            return a\n",
    "        else:\n",
    "            b = torch.clamp(K - S0, 0)\n",
    "\n",
    "            return b\n",
    "    # 求BSM模型下的欧式期权的理论定价\n",
    "    d1 = ((torch.log(torch.tensor(S0 / K)) + (r + 0.5 * sigma ** 2) * T)) / (sigma * torch.sqrt(torch.tensor(T)))\n",
    "    d2 = d1 - sigma * torch.sqrt(torch.tensor(T))\n",
    "    m = Normal(torch.tensor([0.0]),torch.tensor([1.0]))\n",
    "    if type_ == \"call\":\n",
    "        c = S0 * m.cdf(d1) - K * torch.exp(torch.tensor(-r * T)) * m.cdf(d2)\n",
    "        cc = torch.tensor(c, dtype=torch.float32)\n",
    "        cc.requires_grad = True\n",
    "        return cc\n",
    "    elif type_ == \"put\":\n",
    "        p = K * torch.exp(torch.tensor(-r * T)) * m.cdf(-d2) - S0 * m.cdf(-d1)\n",
    "        pp = torch.tensor(p, dtype=torch.float32)\n",
    "        pp.requires_grad = True\n",
    "        return pp\n"
   ],
   "metadata": {
    "collapsed": false,
    "pycharm": {
     "name": "#%%\n"
    }
   }
  },
  {
   "cell_type": "code",
   "execution_count": 85,
   "outputs": [
    {
     "name": "stdout",
     "output_type": "stream",
     "text": [
      "tensor([9.0115], requires_grad=True)\n"
     ]
    },
    {
     "name": "stderr",
     "output_type": "stream",
     "text": [
      "C:\\Users\\Haoya\\AppData\\Local\\Temp\\ipykernel_7556\\353026849.py:33: UserWarning: To copy construct from a tensor, it is recommended to use sourceTensor.clone().detach() or sourceTensor.clone().detach().requires_grad_(True), rather than torch.tensor(sourceTensor).\n",
      "  cc = torch.tensor(c, dtype=torch.float32)\n"
     ]
    }
   ],
   "source": [
    "print(theoretical_vanilla_eu_tensor_ver())"
   ],
   "metadata": {
    "collapsed": false,
    "pycharm": {
     "name": "#%%\n"
    }
   }
  },
  {
   "cell_type": "code",
   "execution_count": 86,
   "outputs": [],
   "source": [
    "\n",
    "S0S = torch.tensor([50,50,50,50,0]).float()\n",
    "S0S.requires_grad = True\n"
   ],
   "metadata": {
    "collapsed": false,
    "pycharm": {
     "name": "#%%\n"
    }
   }
  },
  {
   "cell_type": "code",
   "execution_count": 87,
   "outputs": [
    {
     "name": "stdout",
     "output_type": "stream",
     "text": [
      "tensor([9.0115, 9.0115, 9.0115, 9.0115, 0.0000], requires_grad=True)\n"
     ]
    },
    {
     "name": "stderr",
     "output_type": "stream",
     "text": [
      "C:\\Users\\Haoya\\AppData\\Local\\Temp\\ipykernel_7556\\353026849.py:28: UserWarning: To copy construct from a tensor, it is recommended to use sourceTensor.clone().detach() or sourceTensor.clone().detach().requires_grad_(True), rather than torch.tensor(sourceTensor).\n",
      "  d1 = ((torch.log(torch.tensor(S0 / K)) + (r + 0.5 * sigma ** 2) * T)) / (sigma * torch.sqrt(torch.tensor(T)))\n",
      "C:\\Users\\Haoya\\AppData\\Local\\Temp\\ipykernel_7556\\353026849.py:33: UserWarning: To copy construct from a tensor, it is recommended to use sourceTensor.clone().detach() or sourceTensor.clone().detach().requires_grad_(True), rather than torch.tensor(sourceTensor).\n",
      "  cc = torch.tensor(c, dtype=torch.float32)\n"
     ]
    }
   ],
   "source": [
    "print(theoretical_vanilla_eu_tensor_ver(S0S,50,1,0.05,0.4,'call'))"
   ],
   "metadata": {
    "collapsed": false,
    "pycharm": {
     "name": "#%%\n"
    }
   }
  },
  {
   "cell_type": "markdown",
   "source": [],
   "metadata": {
    "collapsed": false,
    "pycharm": {
     "name": "#%% md\n"
    }
   }
  },
  {
   "cell_type": "markdown",
   "source": [],
   "metadata": {
    "collapsed": false,
    "pycharm": {
     "name": "#%% md\n"
    }
   }
  },
  {
   "cell_type": "code",
   "execution_count": 92,
   "outputs": [
    {
     "name": "stderr",
     "output_type": "stream",
     "text": [
      "C:\\Users\\Haoya\\AppData\\Local\\Temp\\ipykernel_7556\\353026849.py:28: UserWarning: To copy construct from a tensor, it is recommended to use sourceTensor.clone().detach() or sourceTensor.clone().detach().requires_grad_(True), rather than torch.tensor(sourceTensor).\n",
      "  d1 = ((torch.log(torch.tensor(S0 / K)) + (r + 0.5 * sigma ** 2) * T)) / (sigma * torch.sqrt(torch.tensor(T)))\n",
      "C:\\Users\\Haoya\\AppData\\Local\\Temp\\ipykernel_7556\\353026849.py:33: UserWarning: To copy construct from a tensor, it is recommended to use sourceTensor.clone().detach() or sourceTensor.clone().detach().requires_grad_(True), rather than torch.tensor(sourceTensor).\n",
      "  cc = torch.tensor(c, dtype=torch.float32)\n"
     ]
    },
    {
     "data": {
      "text/plain": "tensor([[7.2092],\n        [7.2092],\n        [7.2092],\n        [7.2092]], requires_grad=True)"
     },
     "execution_count": 92,
     "metadata": {},
     "output_type": "execute_result"
    }
   ],
   "source": [
    "S0S2 = torch.tensor([40,40,40,40]).unsqueeze(-1)\n",
    "theoretical_vanilla_eu_tensor_ver(S0S2,40,1,0.05,0.4)"
   ],
   "metadata": {
    "collapsed": false,
    "pycharm": {
     "name": "#%%\n"
    }
   }
  },
  {
   "cell_type": "code",
   "execution_count": null,
   "outputs": [],
   "source": [
    " "
   ],
   "metadata": {
    "collapsed": false,
    "pycharm": {
     "name": "#%%\n"
    }
   }
  }
 ],
 "metadata": {
  "kernelspec": {
   "display_name": "Python 3",
   "language": "python",
   "name": "python3"
  },
  "language_info": {
   "codemirror_mode": {
    "name": "ipython",
    "version": 2
   },
   "file_extension": ".py",
   "mimetype": "text/x-python",
   "name": "python",
   "nbconvert_exporter": "python",
   "pygments_lexer": "ipython2",
   "version": "2.7.6"
  }
 },
 "nbformat": 4,
 "nbformat_minor": 0
}